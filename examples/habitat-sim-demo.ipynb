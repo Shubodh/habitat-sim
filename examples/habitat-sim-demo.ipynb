{
 "cells": [
  {
   "cell_type": "code",
   "execution_count": 3,
   "metadata": {},
   "outputs": [],
   "source": [
    "import habitat_sim\n",
    "\n",
    "import random\n",
    "%matplotlib inline\n",
    "import matplotlib.pyplot as plt\n",
    "import PyQt5\n",
    "\n",
    "import numpy as np\n",
    "import json"
   ]
  },
  {
   "cell_type": "code",
   "execution_count": 4,
   "metadata": {},
   "outputs": [],
   "source": [
    "test_scene = \"/media/shubodh/DATA/Downloads/data-non-onedrive/replica_v1/apartment_0/habitat/mesh_semantic.ply\"\n",
    "\n",
    "\n",
    "sim_settings = {\n",
    "    \"width\": 1920,  # Spatial resolution of the observations    \n",
    "    \"height\": 1080,\n",
    "    \"scene\": test_scene,  # Scene path\n",
    "    \"default_agent\": 0,  \n",
    "    \"sensor_height\": 1.5,  # Height of sensors in meters\n",
    "    \"color_sensor\": True,  # RGB sensor\n",
    "    \"semantic_sensor\": True,  # Semantic sensor\n",
    "    \"depth_sensor\": True,  # Depth sensor\n",
    "    \"seed\": 1,\n",
    "}"
   ]
  },
  {
   "cell_type": "markdown",
   "metadata": {},
   "source": [
    "# Simulator config"
   ]
  },
  {
   "cell_type": "code",
   "execution_count": 5,
   "metadata": {},
   "outputs": [],
   "source": [
    "def make_cfg(settings):\n",
    "    sim_cfg = habitat_sim.SimulatorConfiguration()\n",
    "    sim_cfg.gpu_device_id = 0\n",
    "    sim_cfg.scene.id = settings[\"scene\"]\n",
    "    # Note: all sensors must have the same resolution\n",
    "    sensors = {\n",
    "        \"color_sensor\": {\n",
    "            \"sensor_type\": habitat_sim.SensorType.COLOR,\n",
    "            \"resolution\": [settings[\"height\"], settings[\"width\"]],\n",
    "            \"position\": [0.0, settings[\"sensor_height\"], 0.0],\n",
    "        },\n",
    "        \"depth_sensor\": {\n",
    "            \"sensor_type\": habitat_sim.SensorType.DEPTH,\n",
    "            \"resolution\": [settings[\"height\"], settings[\"width\"]],\n",
    "            \"position\": [0.0, settings[\"sensor_height\"], 0.0],\n",
    "        },\n",
    "        \"semantic_sensor\": {\n",
    "            \"sensor_type\": habitat_sim.SensorType.SEMANTIC,\n",
    "            \"resolution\": [settings[\"height\"], settings[\"width\"]],\n",
    "            \"position\": [0.0, settings[\"sensor_height\"], 0.0],\n",
    "        },  \n",
    "    }\n",
    "    \n",
    "    sensor_specs = []\n",
    "    for sensor_uuid, sensor_params in sensors.items():\n",
    "        if settings[sensor_uuid]:\n",
    "            sensor_spec = habitat_sim.SensorSpec()\n",
    "            sensor_spec.uuid = sensor_uuid\n",
    "            sensor_spec.sensor_type = sensor_params[\"sensor_type\"]\n",
    "            sensor_spec.resolution = sensor_params[\"resolution\"]\n",
    "            sensor_spec.position = sensor_params[\"position\"]\n",
    "\n",
    "            sensor_specs.append(sensor_spec)\n",
    "            \n",
    "#             print(sensor_spec.parameters.__repr__)\n",
    "    # Here you can specify the amount of displacement in a forward action and the turn angle\n",
    "    agent_cfg = habitat_sim.agent.AgentConfiguration()\n",
    "    agent_cfg.sensor_specifications = sensor_specs\n",
    "    agent_cfg.action_space = {\n",
    "        \"move_forward\": habitat_sim.agent.ActionSpec(\n",
    "            \"move_forward\", habitat_sim.agent.ActuationSpec(amount=0.25)\n",
    "        ),\n",
    "        \"turn_left\": habitat_sim.agent.ActionSpec(\n",
    "            \"turn_left\", habitat_sim.agent.ActuationSpec(amount=30.0)\n",
    "        ),\n",
    "        \"turn_right\": habitat_sim.agent.ActionSpec(\n",
    "            \"turn_right\", habitat_sim.agent.ActuationSpec(amount=30.0)\n",
    "        ),\n",
    "    }\n",
    "    \n",
    "    return habitat_sim.Configuration(sim_cfg, [agent_cfg])"
   ]
  },
  {
   "cell_type": "code",
   "execution_count": 6,
   "metadata": {},
   "outputs": [
    {
     "name": "stderr",
     "output_type": "stream",
     "text": [
      "I0801 21:41:26.101504 19310 simulator.py:146] Loaded navmesh /media/shubodh/DATA/Downloads/data-non-onedrive/replica_v1/apartment_0/habitat/mesh_semantic.navmesh\n"
     ]
    }
   ],
   "source": [
    "cfg = make_cfg(sim_settings)\n",
    "sim = habitat_sim.Simulator(cfg)"
   ]
  },
  {
   "cell_type": "code",
   "execution_count": 7,
   "metadata": {
    "scrolled": true
   },
   "outputs": [],
   "source": [
    "# Try to access sensor_spec.sensor_type above first\n",
    "# print(help(sim))"
   ]
  },
  {
   "cell_type": "markdown",
   "metadata": {},
   "source": [
    "# Scene semantic annotations"
   ]
  },
  {
   "cell_type": "code",
   "execution_count": 8,
   "metadata": {},
   "outputs": [
    {
     "name": "stdout",
     "output_type": "stream",
     "text": [
      "House has 0 levels, 0 regions and 462 objects\n",
      "House center:[0. 0. 0.] dims:[-inf -inf -inf]\n"
     ]
    }
   ],
   "source": [
    "def print_scene_recur(scene, limit_output=10):\n",
    "    print(f\"House has {len(scene.levels)} levels, {len(scene.regions)} regions and {len(scene.objects)} objects\")\n",
    "    print(f\"House center:{scene.aabb.center} dims:{scene.aabb.sizes}\")\n",
    "    \n",
    "    count = 0\n",
    "    for level in scene.levels:\n",
    "        print(\n",
    "            f\"Level id:{level.id}, center:{level.aabb.center},\"\n",
    "            f\" dims:{level.aabb.sizes}\"\n",
    "        )\n",
    "        for region in level.regions:\n",
    "            print(\n",
    "                f\"Region id:{region.id}, category:{region.category.name()},\"\n",
    "                f\" center:{region.aabb.center}, dims:{region.aabb.sizes}\"\n",
    "            )\n",
    "            for obj in region.objects:\n",
    "                print(\n",
    "                    f\"Object id:{obj.id}, category:{obj.category.name()},\"\n",
    "                    f\" center:{obj.aabb.center}, dims:{obj.aabb.sizes}\"\n",
    "                )\n",
    "                count += 1\n",
    "                if count >= limit_output:\n",
    "                    return None\n",
    "\n",
    "# Print semantic annotation information (id, category, bounding box details) \n",
    "# about levels, regions and objects in a hierarchical fashion\n",
    "scene = sim.semantic_scene\n",
    "print_scene_recur(scene)"
   ]
  },
  {
   "cell_type": "code",
   "execution_count": 9,
   "metadata": {},
   "outputs": [],
   "source": [
    "from PIL import Image\n",
    "from habitat_sim.utils.common import d3_40_colors_rgb\n",
    "\n",
    "def display_save_sample(rgb_obs, semantic_obs, depth_obs, obs_id):\n",
    "    # Save raw data\n",
    "    raw_data_folder = \"./data_collection/apartment_0/raw_data/\" \n",
    "    np.save(raw_data_folder + str(obs_id) + \"_rgb\",rgb_obs)\n",
    "    np.save(raw_data_folder + str(obs_id) + \"_instance-seg\",semantic_obs)\n",
    "    np.save(raw_data_folder + str(obs_id) + \"_depth\",depth_obs)\n",
    "    \n",
    "    rgb_img = Image.fromarray(rgb_obs, mode=\"RGBA\")\n",
    "    \n",
    "    semantic_img = Image.new(\"P\", (semantic_obs.shape[1], semantic_obs.shape[0]))\n",
    "    semantic_img.putpalette(d3_40_colors_rgb.flatten())\n",
    "    semantic_img.putdata((semantic_obs.flatten() % 40).astype(np.uint8))\n",
    "    semantic_img = semantic_img.convert(\"RGBA\")\n",
    "    \n",
    "    depth_img = Image.fromarray((depth_obs / 10 * 255).astype(np.uint8), mode=\"L\")\n",
    "\n",
    "    # Save visualization data\n",
    "    viz_data_folder = \"./data_collection/apartment_0/viz_data/\"\n",
    "    rgb_img.save(viz_data_folder + str(obs_id) + \"_rgb.png\")\n",
    "    semantic_img.save(viz_data_folder + str(obs_id) + \"_instance-seg.png\")\n",
    "    depth_img.save(viz_data_folder + str(obs_id) + \"_depth.png\")\n",
    "    \n",
    "#     arr = [rgb_img, semantic_img, depth_img]\n",
    "#     titles = ['rgb', 'semantic', 'depth']\n",
    "#     plt.figure(figsize=(12 ,8))\n",
    "#     for i, data in enumerate(arr):\n",
    "#         ax = plt.subplot(1, 3, i+1)\n",
    "#         ax.axis('off')\n",
    "#         ax.set_title(titles[i])\n",
    "#         plt.imshow(data, cmap='gray')\n",
    "#     plt.show()\n",
    "    \n"
   ]
  },
  {
   "cell_type": "code",
   "execution_count": null,
   "metadata": {},
   "outputs": [],
   "source": [
    "random.seed(sim_settings[\"seed\"])\n",
    "sim.seed(sim_settings[\"seed\"])\n",
    "\n",
    "# Set agent state\n",
    "poses_json = \"/media/shubodh/DATA/OneDrive/rrc_projects/2020/DeepGlobalRegistration-Navigation/habitat_all/habitat-sim/examples/data_collection/apartment_0/poses_run-replica-apartment_0.json\"\n",
    "with open(poses_json) as f:\n",
    "    poses_data = json.load(f)\n",
    "    \n",
    "    position_array = [list(map(float,i)) for i in poses_data['position']]\n",
    "    rotation_array = [list(map(float,i)) for i in poses_data['rotation']]"
   ]
  },
  {
   "cell_type": "code",
   "execution_count": 38,
   "metadata": {},
   "outputs": [],
   "source": []
  },
  {
   "cell_type": "code",
   "execution_count": 45,
   "metadata": {},
   "outputs": [
    {
     "name": "stdout",
     "output_type": "stream",
     "text": [
      "agent_state: position [ 0.284301 -1.37477   5.26595 ] rotation quaternion(1, 0, 0, 0)\n"
     ]
    },
    {
     "data": {
      "text/plain": [
       "3034"
      ]
     },
     "execution_count": 45,
     "metadata": {},
     "output_type": "execute_result"
    }
   ],
   "source": [
    "poses_path = {\n",
    "    'position': np.array(position_array),\n",
    "    'rotation': np.array(rotation_array)\n",
    "}\n",
    "\n",
    "agent = sim.initialize_agent(sim_settings[\"default_agent\"])\n",
    "agent_state = habitat_sim.AgentState()\n",
    "agent_state.position = poses_path['position'][0]\n",
    "agent_state.rotation = habitat_sim.utils.common.quat_from_coeffs(poses_path['rotation'][0])\n",
    "agent.set_state(agent_state)\n",
    "\n",
    "# Get agent state\n",
    "agent_state = agent.get_state()\n",
    "print(\"agent_state: position\", agent_state.position, \"rotation\", (agent_state.rotation))\n"
   ]
  },
  {
   "cell_type": "markdown",
   "metadata": {},
   "source": [
    "# Take random actions and display sensor data"
   ]
  },
  {
   "cell_type": "code",
   "execution_count": 43,
   "metadata": {
    "scrolled": true
   },
   "outputs": [
    {
     "name": "stdout",
     "output_type": "stream",
     "text": [
      "agent_state: position [ 0.284301 -1.37477   5.26595 ] rotation quaternion(1, 0, 0, 0)\n",
      "agent_state: position [ 0.384301 -1.37477   5.26595 ] rotation quaternion(1, 0, 0, 0)\n",
      "agent_state: position [ 0.484301 -1.37477   5.26595 ] rotation quaternion(1, 0, 0, 0)\n",
      "agent_state: position [ 0.584301 -1.37477   5.26595 ] rotation quaternion(1, 0, 0, 0)\n",
      "agent_state: position [ 0.684301 -1.37477   5.26595 ] rotation quaternion(1, 0, 0, 0)\n",
      "agent_state: position [ 0.784301 -1.37477   5.26595 ] rotation quaternion(1, 0, 0, 0)\n",
      "agent_state: position [ 0.784301 -1.37477   5.16595 ] rotation quaternion(1, 0, 0, 0)\n",
      "agent_state: position [ 0.884301 -1.37477   5.16595 ] rotation quaternion(1, 0, 0, 0)\n",
      "agent_state: position [ 0.984301 -1.37477   5.16595 ] rotation quaternion(1, 0, 0, 0)\n",
      "agent_state: position [ 0.984301 -1.37477   5.06595 ] rotation quaternion(1, 0, 0, 0)\n",
      "agent_state: position [ 0.984301 -1.37477   4.96595 ] rotation quaternion(1, 0, 0, 0)\n",
      "agent_state: position [ 0.984301 -1.37477   4.86595 ] rotation quaternion(1, 0, 0, 0)\n",
      "agent_state: position [ 0.984301 -1.37477   4.76595 ] rotation quaternion(1, 0, 0, 0)\n",
      "agent_state: position [ 0.984301 -1.37477   4.66595 ] rotation quaternion(1, 0, 0, 0)\n",
      "agent_state: position [ 0.984301 -1.37477   4.56595 ] rotation quaternion(1, 0, 0, 0)\n",
      "agent_state: position [ 0.984301 -1.37477   4.46595 ] rotation quaternion(1, 0, 0, 0)\n",
      "agent_state: position [ 0.984301 -1.37477   4.36595 ] rotation quaternion(1, 0, 0, 0)\n",
      "agent_state: position [ 1.0843  -1.37477  4.36595] rotation quaternion(1, 0, 0, 0)\n",
      "agent_state: position [ 1.0843  -1.37477  4.26595] rotation quaternion(1, 0, 0, 0)\n",
      "agent_state: position [ 0.984301 -1.37477   4.26595 ] rotation quaternion(1, 0, 0, 0)\n",
      "agent_state: position [ 0.984301 -1.37477   4.26595 ] rotation quaternion(0.995185017585754, 0, 0.0980170965194702, 0)\n",
      "agent_state: position [ 0.984301 -1.37477   4.26595 ] rotation quaternion(0.980785012245178, 0, 0.195089995861053, 0)\n",
      "agent_state: position [ 0.946033 -1.37477   4.17357 ] rotation quaternion(0.980785012245178, 0, 0.195089995861053, 0)\n",
      "agent_state: position [ 1.03842 -1.37477  4.1353 ] rotation quaternion(0.980785012245178, 0, 0.195089995861053, 0)\n",
      "agent_state: position [ 1.13081 -1.37477  4.09703] rotation quaternion(0.980785012245178, 0, 0.195089995861053, 0)\n",
      "agent_state: position [ 1.09254 -1.37477  4.00464] rotation quaternion(0.980785012245178, 0, 0.195089995861053, 0)\n",
      "agent_state: position [ 1.05427 -1.37477  3.91225] rotation quaternion(0.980785012245178, 0, 0.195089995861053, 0)\n",
      "agent_state: position [ 1.016   -1.37477  3.81986] rotation quaternion(0.980785012245178, 0, 0.195089995861053, 0)\n",
      "agent_state: position [ 1.10839 -1.37477  3.7816 ] rotation quaternion(0.980785012245178, 0, 0.195089995861053, 0)\n",
      "agent_state: position [ 1.10839 -1.37477  3.7816 ] rotation quaternion(0.956939995288849, 0, 0.290284991264343, 0)\n",
      "agent_state: position [ 1.10839 -1.37477  3.7816 ] rotation quaternion(0.923879981040955, 0, 0.382683008909225, 0)\n",
      "agent_state: position [ 1.1791  -1.37477  3.71089] rotation quaternion(0.923879981040955, 0, 0.382683008909225, 0)\n",
      "agent_state: position [ 1.10839 -1.37477  3.64018] rotation quaternion(0.923879981040955, 0, 0.382683008909225, 0)\n",
      "agent_state: position [ 1.03768 -1.37477  3.56946] rotation quaternion(0.923879981040955, 0, 0.382683008909225, 0)\n",
      "agent_state: position [ 0.96697 -1.37477  3.49875] rotation quaternion(0.923879981040955, 0, 0.382683008909225, 0)\n",
      "agent_state: position [ 0.896259 -1.37477   3.42804 ] rotation quaternion(0.923879981040955, 0, 0.382683008909225, 0)\n",
      "agent_state: position [ 0.896259 -1.37477   3.42804 ] rotation quaternion(0.881920993328094, 0, 0.471397012472153, 0)\n",
      "agent_state: position [ 0.951816 -1.37477   3.3449  ] rotation quaternion(0.881920993328094, 0, 0.471397012472153, 0)\n",
      "agent_state: position [ 0.868669 -1.37477   3.28934 ] rotation quaternion(0.881920993328094, 0, 0.471397012472153, 0)\n",
      "agent_state: position [ 0.924226 -1.37477   3.20619 ] rotation quaternion(0.881920993328094, 0, 0.471397012472153, 0)\n",
      "agent_state: position [ 0.841079 -1.37477   3.15064 ] rotation quaternion(0.881920993328094, 0, 0.471397012472153, 0)\n",
      "agent_state: position [ 0.841079 -1.37477   3.15064 ] rotation quaternion(0.831470012664795, 0, 0.555570006370544, 0)\n",
      "agent_state: position [ 0.748691 -1.37477   3.11237 ] rotation quaternion(0.831470012664795, 0, 0.555570006370544, 0)\n",
      "agent_state: position [ 0.78696 -1.37477  3.01998] rotation quaternion(0.831470012664795, 0, 0.555570006370544, 0)\n",
      "agent_state: position [ 0.694572 -1.37477   2.98171 ] rotation quaternion(0.831470012664795, 0, 0.555570006370544, 0)\n",
      "agent_state: position [ 0.602184 -1.37477   2.94344 ] rotation quaternion(0.831470012664795, 0, 0.555570006370544, 0)\n",
      "agent_state: position [ 0.602184 -1.37477   2.94344 ] rotation quaternion(0.773010015487671, 0, 0.634392976760864, 0)\n",
      "agent_state: position [ 0.504105 -1.37477   2.92393 ] rotation quaternion(0.773010015487671, 0, 0.634392976760864, 0)\n",
      "agent_state: position [ 0.523614 -1.37477   2.82585 ] rotation quaternion(0.773010015487671, 0, 0.634392976760864, 0)\n",
      "agent_state: position [ 0.425536 -1.37477   2.80635 ] rotation quaternion(0.773010015487671, 0, 0.634392976760864, 0)\n",
      "agent_state: position [ 0.327457 -1.37477   2.78684 ] rotation quaternion(0.773010015487671, 0, 0.634392976760864, 0)\n",
      "agent_state: position [ 0.229379 -1.37477   2.76733 ] rotation quaternion(0.773010015487671, 0, 0.634392976760864, 0)\n",
      "agent_state: position [ 0.1313  -1.37477  2.74782] rotation quaternion(0.773010015487671, 0, 0.634392976760864, 0)\n",
      "agent_state: position [ 0.0332217 -1.37477    2.72831  ] rotation quaternion(0.773010015487671, 0, 0.634392976760864, 0)\n",
      "agent_state: position [ 0.0137127 -1.37477    2.82639  ] rotation quaternion(0.773010015487671, 0, 0.634392976760864, 0)\n",
      "agent_state: position [-0.0843658 -1.37477    2.80688  ] rotation quaternion(0.773010015487671, 0, 0.634392976760864, 0)\n",
      "agent_state: position [-0.182444 -1.37477   2.78737 ] rotation quaternion(0.773010015487671, 0, 0.634392976760864, 0)\n",
      "agent_state: position [-0.280523 -1.37477   2.76786 ] rotation quaternion(0.773010015487671, 0, 0.634392976760864, 0)\n",
      "agent_state: position [-0.378601 -1.37477   2.74835 ] rotation quaternion(0.773010015487671, 0, 0.634392976760864, 0)\n",
      "agent_state: position [-0.47668 -1.37477  2.72884] rotation quaternion(0.773010015487671, 0, 0.634392976760864, 0)\n",
      "agent_state: position [-0.574758 -1.37477   2.70933 ] rotation quaternion(0.773010015487671, 0, 0.634392976760864, 0)\n",
      "agent_state: position [-0.672837 -1.37477   2.68982 ] rotation quaternion(0.773010015487671, 0, 0.634392976760864, 0)\n",
      "agent_state: position [-0.770916 -1.37477   2.67032 ] rotation quaternion(0.773010015487671, 0, 0.634392976760864, 0)\n",
      "agent_state: position [-0.790425 -1.37477   2.76839 ] rotation quaternion(0.773010015487671, 0, 0.634392976760864, 0)\n",
      "agent_state: position [-0.809934 -1.37477   2.86647 ] rotation quaternion(0.773010015487671, 0, 0.634392976760864, 0)\n",
      "agent_state: position [-0.829443 -1.37477   2.96455 ] rotation quaternion(0.773010015487671, 0, 0.634392976760864, 0)\n",
      "agent_state: position [-0.829443 -1.37477   2.96455 ] rotation quaternion(0.831470012664795, 0, 0.555570006370544, 0)\n",
      "agent_state: position [-0.921831 -1.37477   2.92628 ] rotation quaternion(0.831470012664795, 0, 0.555570006370544, 0)\n",
      "agent_state: position [-1.01422 -1.37477  2.88801] rotation quaternion(0.831470012664795, 0, 0.555570006370544, 0)\n",
      "agent_state: position [-1.05249 -1.37477  2.9804 ] rotation quaternion(0.831470012664795, 0, 0.555570006370544, 0)\n",
      "agent_state: position [-1.09076 -1.37477  3.07279] rotation quaternion(0.831470012664795, 0, 0.555570006370544, 0)\n",
      "agent_state: position [-1.09076 -1.37477  3.07279] rotation quaternion(0.881920993328094, 0, 0.471397012472153, 0)\n",
      "agent_state: position [-1.14631 -1.37477  3.15594] rotation quaternion(0.881920993328094, 0, 0.471397012472153, 0)\n",
      "agent_state: position [-1.22946 -1.37477  3.10038] rotation quaternion(0.881920993328094, 0, 0.471397012472153, 0)\n",
      "agent_state: position [-1.28502 -1.37477  3.18353] rotation quaternion(0.881920993328094, 0, 0.471397012472153, 0)\n",
      "agent_state: position [-1.28502 -1.37477  3.18353] rotation quaternion(0.923879981040955, 0, 0.382683008909225, 0)\n"
     ]
    },
    {
     "name": "stdout",
     "output_type": "stream",
     "text": [
      "agent_state: position [-1.35573 -1.37477  3.11282] rotation quaternion(0.923879981040955, 0, 0.382683008909225, 0)\n",
      "agent_state: position [-1.42644 -1.3638   3.04211] rotation quaternion(0.923879981040955, 0, 0.382683008909225, 0)\n",
      "agent_state: position [-1.49715 -1.3428   2.97139] rotation quaternion(0.923879981040955, 0, 0.382683008909225, 0)\n",
      "agent_state: position [-1.49715 -1.3428   2.97139] rotation quaternion(0.956939995288849, 0, 0.290284991264343, 0)\n",
      "agent_state: position [-1.55271 -1.32363  2.88825] rotation quaternion(0.956939995288849, 0, 0.290284991264343, 0)\n",
      "agent_state: position [-1.60826 -1.30445  2.8051 ] rotation quaternion(0.956939995288849, 0, 0.290284991264343, 0)\n",
      "agent_state: position [-1.66382 -1.28528  2.72195] rotation quaternion(0.956939995288849, 0, 0.290284991264343, 0)\n",
      "agent_state: position [-1.66382 -1.28528  2.72195] rotation quaternion(0.980785012245178, 0, 0.195089995861053, 0)\n",
      "agent_state: position [-1.70209 -1.2773   2.62957] rotation quaternion(0.980785012245178, 0, 0.195089995861053, 0)\n",
      "agent_state: position [-1.70209 -1.2773   2.62957] rotation quaternion(0.995185017585754, 0, 0.0980170965194702, 0)\n",
      "agent_state: position [-1.7216  -1.27667  2.53149] rotation quaternion(0.995185017585754, 0, 0.0980170965194702, 0)\n",
      "agent_state: position [-1.74111 -1.27604  2.43341] rotation quaternion(0.995185017585754, 0, 0.0980170965194702, 0)\n",
      "agent_state: position [-1.74111 -1.27604  2.43341] rotation quaternion(1, 0, 0, 0)\n",
      "agent_state: position [-1.74111 -1.27604  2.43341] rotation quaternion(0.995185017585754, 0, -0.0980170965194702, 0)\n",
      "agent_state: position [-1.7216  -1.27895  2.33533] rotation quaternion(0.995185017585754, 0, -0.0980170965194702, 0)\n",
      "agent_state: position [-1.70209 -1.28187  2.23725] rotation quaternion(0.995185017585754, 0, -0.0980170965194702, 0)\n",
      "agent_state: position [-1.68258 -1.28479  2.13917] rotation quaternion(0.995185017585754, 0, -0.0980170965194702, 0)\n",
      "agent_state: position [-1.68258 -1.28479  2.13917] rotation quaternion(0.980785012245178, 0, -0.195089995861053, 0)\n",
      "agent_state: position [-1.68258 -1.28479  2.13917] rotation quaternion(0.956939995288849, 0, -0.290284991264343, 0)\n",
      "agent_state: position [-1.62702 -1.29081  2.05603] rotation quaternion(0.956939995288849, 0, -0.290284991264343, 0)\n",
      "agent_state: position [-1.57146 -1.29683  1.97288] rotation quaternion(0.956939995288849, 0, -0.290284991264343, 0)\n",
      "agent_state: position [-1.51591 -1.30285  1.88973] rotation quaternion(0.956939995288849, 0, -0.290284991264343, 0)\n",
      "agent_state: position [-1.51591 -1.30285  1.88973] rotation quaternion(0.923879981040955, 0, -0.382683008909225, 0)\n",
      "agent_state: position [-1.51591 -1.30285  1.88973] rotation quaternion(0.881920993328094, 0, -0.471397012472153, 0)\n"
     ]
    }
   ],
   "source": [
    "total_frames = 0\n",
    "action_names = list(\n",
    "    cfg.agents[\n",
    "        sim_settings[\"default_agent\"]\n",
    "    ].action_space.keys()\n",
    ")\n",
    "\n",
    "max_frames = 100 #len(poses_path['position'])\n",
    "sim.set_translation\n",
    "while total_frames < max_frames:\n",
    "#     action = random.choice(action_names)\n",
    "#     print(\"action\", action)\n",
    "    agent_state.position = poses_path['position'][total_frames]\n",
    "    agent_state.rotation = habitat_sim.utils.common.quat_from_coeffs(poses_path['rotation'][total_frames])\n",
    "    agent.set_state(agent_state)\n",
    "    \n",
    "    observations = sim.get_sensor_observations()\n",
    "#     print((observations))\n",
    "    rgb = observations[\"color_sensor\"]\n",
    "    semantic = observations[\"semantic_sensor\"]\n",
    "    depth = observations[\"depth_sensor\"]\n",
    "    display_save_sample(rgb, semantic, depth, total_frames)\n",
    "    \n",
    "    agent_state = agent.get_state()\n",
    "    print(\"agent_state: position\", agent_state.position, \"rotation\", agent_state.rotation)\n",
    "\n",
    "    total_frames += 1"
   ]
  },
  {
   "cell_type": "code",
   "execution_count": null,
   "metadata": {},
   "outputs": [],
   "source": []
  },
  {
   "cell_type": "code",
   "execution_count": null,
   "metadata": {},
   "outputs": [],
   "source": []
  },
  {
   "cell_type": "code",
   "execution_count": null,
   "metadata": {},
   "outputs": [],
   "source": []
  },
  {
   "cell_type": "code",
   "execution_count": null,
   "metadata": {},
   "outputs": [],
   "source": []
  }
 ],
 "metadata": {
  "kernelspec": {
   "display_name": "Python 3",
   "language": "python",
   "name": "python3"
  },
  "language_info": {
   "codemirror_mode": {
    "name": "ipython",
    "version": 3
   },
   "file_extension": ".py",
   "mimetype": "text/x-python",
   "name": "python",
   "nbconvert_exporter": "python",
   "pygments_lexer": "ipython3",
   "version": "3.6.10"
  }
 },
 "nbformat": 4,
 "nbformat_minor": 4
}
